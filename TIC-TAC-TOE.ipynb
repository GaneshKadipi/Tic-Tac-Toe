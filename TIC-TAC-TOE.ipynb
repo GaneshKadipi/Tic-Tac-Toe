{
 "cells": [
  {
   "cell_type": "code",
   "execution_count": 1,
   "id": "69c51f07",
   "metadata": {},
   "outputs": [],
   "source": [
    "test_board=['a']*10"
   ]
  },
  {
   "cell_type": "code",
   "execution_count": 2,
   "id": "5c590ad9",
   "metadata": {},
   "outputs": [],
   "source": [
    "def display(test_board):\n",
    "    print(test_board[7]+\"|\"+test_board[8]+\"|\"+test_board[9])\n",
    "    print(test_board[4]+\"|\"+test_board[5]+\"|\"+test_board[6])\n",
    "    print(test_board[1]+\"|\"+test_board[2]+\"|\"+test_board[3])"
   ]
  },
  {
   "cell_type": "code",
   "execution_count": null,
   "id": "f2e9ebf6",
   "metadata": {},
   "outputs": [],
   "source": []
  },
  {
   "cell_type": "code",
   "execution_count": 3,
   "id": "d3b4077e",
   "metadata": {},
   "outputs": [],
   "source": [
    "from IPython.display import clear_output\n",
    "def display(test_board):\n",
    "    clear_output()\n",
    "    print(test_board[7]+\"|\"+test_board[8]+\"|\"+test_board[9])\n",
    "    print(test_board[4]+\"|\"+test_board[5]+\"|\"+test_board[6])\n",
    "    print(test_board[1]+\"|\"+test_board[2]+\"|\"+test_board[3])"
   ]
  },
  {
   "cell_type": "code",
   "execution_count": null,
   "id": "0ae72f46",
   "metadata": {},
   "outputs": [],
   "source": []
  },
  {
   "cell_type": "code",
   "execution_count": 4,
   "id": "94c117cb",
   "metadata": {},
   "outputs": [],
   "source": [
    "def player_input():\n",
    "    marker=\"\"\n",
    "    while not(marker=='X' or marker=='O'):\n",
    "        marker=input(\"Player 1 : Enter your choice(X or O) : \").upper()\n",
    "    if marker=='X':\n",
    "        return ('X','O')\n",
    "    else:\n",
    "        return ('O','X')"
   ]
  },
  {
   "cell_type": "code",
   "execution_count": null,
   "id": "a42a3e05",
   "metadata": {},
   "outputs": [],
   "source": []
  },
  {
   "cell_type": "code",
   "execution_count": 5,
   "id": "042d45c6",
   "metadata": {},
   "outputs": [],
   "source": [
    "def place_marker(board,marker,position):\n",
    "    board[position]=marker"
   ]
  },
  {
   "cell_type": "code",
   "execution_count": 6,
   "id": "97b0a7e6",
   "metadata": {},
   "outputs": [],
   "source": [
    "def win_check(board,mark):\n",
    "    return((board[7]==mark and board[8]==mark and board[9]==mark)or\n",
    "          (board[4]==mark and board[5]==mark and board[6]==mark)or\n",
    "          (board[1]==mark and board[2]==mark and board[3]==mark)or\n",
    "          (board[7]==mark and board[4]==mark and board[1]==mark)or\n",
    "          (board[8]==mark and board[5]==mark and board[2]==mark)or\n",
    "          (board[9]==mark and board[6]==mark and board[3]==mark)or\n",
    "          (board[7]==mark and board[5]==mark and board[3]==mark)or\n",
    "          (board[9]==mark and board[5]==mark and board[1]==mark))"
   ]
  },
  {
   "cell_type": "code",
   "execution_count": 7,
   "id": "01a36724",
   "metadata": {},
   "outputs": [],
   "source": [
    "def space_check(board,position):\n",
    "    return  board[position]==\" \""
   ]
  },
  {
   "cell_type": "code",
   "execution_count": 8,
   "id": "3cdf7f75",
   "metadata": {},
   "outputs": [],
   "source": [
    "import random\n",
    "def choose_first():\n",
    "    if random.randint(0,1)==0:\n",
    "        return 'player 2'\n",
    "    else:\n",
    "        return 'player 1'"
   ]
  },
  {
   "cell_type": "code",
   "execution_count": 9,
   "id": "e1d66b17",
   "metadata": {},
   "outputs": [],
   "source": [
    "def full_board_check(board):\n",
    "    for i in range(1,10):\n",
    "        if space_check(board,i):\n",
    "            return False\n",
    "    return True"
   ]
  },
  {
   "cell_type": "code",
   "execution_count": 10,
   "id": "450eabaf",
   "metadata": {},
   "outputs": [],
   "source": [
    "def player_choice(board):\n",
    "    position=0\n",
    "    while position not in [1,2,3,4,5,6,7,8,9] or not space_check(board,position):\n",
    "        position=int(input('Enter your choice(1-9) : '))\n",
    "    return position"
   ]
  },
  {
   "cell_type": "code",
   "execution_count": 11,
   "id": "8c75440f",
   "metadata": {},
   "outputs": [],
   "source": [
    "def replay():\n",
    "    return input(\"Do you want to play again ?(yes or no) : \").lower().startswith('y')"
   ]
  },
  {
   "cell_type": "code",
   "execution_count": 12,
   "id": "8a9f459c",
   "metadata": {},
   "outputs": [
    {
     "name": "stdout",
     "output_type": "stream",
     "text": [
      "Welcome to TIC-TAC-TOE !!!\n",
      "Player 1 : Enter your choice(X or O) : x\n",
      "player 1 will go first\n",
      "Do you want to continue ?(yes/no) : n\n",
      "Do you want to play again ?(yes or no) : y\n",
      "Player 1 : Enter your choice(X or O) : x\n",
      "player 2 will go first\n",
      "Do you want to continue ?(yes/no) : n\n",
      "Do you want to play again ?(yes or no) : n\n"
     ]
    }
   ],
   "source": [
    "print(\"Welcome to TIC-TAC-TOE !!!\")\n",
    "while True:\n",
    "    theBoard=[\" \"]*10\n",
    "    player1_marker,player2_marker=player_input()\n",
    "    turn=choose_first()\n",
    "    print(turn+\" will go first\")\n",
    "    \n",
    "    play_game=input(\"Do you want to continue ?(yes/no) : \")\n",
    "    if play_game.lower()[0]=='y':\n",
    "        game_on = True\n",
    "    else:\n",
    "        game_on = False\n",
    "        \n",
    "    while game_on:\n",
    "        if turn=='player 1':\n",
    "            display(theBoard)\n",
    "            position=player_choice(theBoard)\n",
    "            place_marker(theBoard,player1_marker,position)\n",
    "            \n",
    "            if win_check(theBoard,player1_marker):\n",
    "                display(theBoard)\n",
    "                print(\"Congratulations! You have won the game.\")\n",
    "                game_on=False\n",
    "                \n",
    "            else:\n",
    "                if full_board_check(theBoard):\n",
    "                    display(theBoard)\n",
    "                    print('Game is drawn !')\n",
    "                    break\n",
    "                else:\n",
    "                    turn='player 2'\n",
    "        else:\n",
    "            display(theBoard)\n",
    "            position=player_choice(theBoard)\n",
    "            place_marker(theBoard,player2_marker,position)\n",
    "            \n",
    "            if win_check(theBoard,player2_marker):\n",
    "                display(theBoard)\n",
    "                print(\"Congratulations! You have won the game.\")\n",
    "                game_on=False\n",
    "                \n",
    "            else:\n",
    "                if full_board_check(theBoard):\n",
    "                    display(theBoard)\n",
    "                    print('Game is drawn !')\n",
    "                    break\n",
    "                else:\n",
    "                    turn='player 1'\n",
    "    if not replay():\n",
    "        break"
   ]
  },
  {
   "cell_type": "code",
   "execution_count": null,
   "id": "42d7a29b",
   "metadata": {},
   "outputs": [],
   "source": []
  },
  {
   "cell_type": "code",
   "execution_count": null,
   "id": "5473869b",
   "metadata": {},
   "outputs": [],
   "source": []
  }
 ],
 "metadata": {
  "kernelspec": {
   "display_name": "Python 3",
   "language": "python",
   "name": "python3"
  },
  "language_info": {
   "codemirror_mode": {
    "name": "ipython",
    "version": 3
   },
   "file_extension": ".py",
   "mimetype": "text/x-python",
   "name": "python",
   "nbconvert_exporter": "python",
   "pygments_lexer": "ipython3",
   "version": "3.8.8"
  }
 },
 "nbformat": 4,
 "nbformat_minor": 5
}
